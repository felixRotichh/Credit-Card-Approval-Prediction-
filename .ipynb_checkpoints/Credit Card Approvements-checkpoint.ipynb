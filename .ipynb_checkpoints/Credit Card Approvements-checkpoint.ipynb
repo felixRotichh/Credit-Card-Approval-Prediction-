{
 "cells": [
  {
   "cell_type": "code",
   "execution_count": 1,
   "id": "4947b697",
   "metadata": {},
   "outputs": [],
   "source": [
    "import pandas as pd"
   ]
  },
  {
   "cell_type": "code",
   "execution_count": 2,
   "id": "68980965",
   "metadata": {},
   "outputs": [],
   "source": [
    "data = pd.read_csv('Credit_card.csv')"
   ]
  },
  {
   "cell_type": "code",
   "execution_count": 3,
   "id": "2176ce0c",
   "metadata": {},
   "outputs": [
    {
     "data": {
      "text/html": [
       "<div>\n",
       "<style scoped>\n",
       "    .dataframe tbody tr th:only-of-type {\n",
       "        vertical-align: middle;\n",
       "    }\n",
       "\n",
       "    .dataframe tbody tr th {\n",
       "        vertical-align: top;\n",
       "    }\n",
       "\n",
       "    .dataframe thead th {\n",
       "        text-align: right;\n",
       "    }\n",
       "</style>\n",
       "<table border=\"1\" class=\"dataframe\">\n",
       "  <thead>\n",
       "    <tr style=\"text-align: right;\">\n",
       "      <th></th>\n",
       "      <th>Ind_ID</th>\n",
       "      <th>GENDER</th>\n",
       "      <th>Car_Owner</th>\n",
       "      <th>Propert_Owner</th>\n",
       "      <th>CHILDREN</th>\n",
       "      <th>Annual_income</th>\n",
       "      <th>Type_Income</th>\n",
       "      <th>EDUCATION</th>\n",
       "      <th>Marital_status</th>\n",
       "      <th>Housing_type</th>\n",
       "      <th>Birthday_count</th>\n",
       "      <th>Employed_days</th>\n",
       "      <th>Mobile_phone</th>\n",
       "      <th>Work_Phone</th>\n",
       "      <th>Phone</th>\n",
       "      <th>EMAIL_ID</th>\n",
       "      <th>Type_Occupation</th>\n",
       "      <th>Family_Members</th>\n",
       "    </tr>\n",
       "  </thead>\n",
       "  <tbody>\n",
       "    <tr>\n",
       "      <th>0</th>\n",
       "      <td>5008827</td>\n",
       "      <td>M</td>\n",
       "      <td>Y</td>\n",
       "      <td>Y</td>\n",
       "      <td>0</td>\n",
       "      <td>180000.0</td>\n",
       "      <td>Pensioner</td>\n",
       "      <td>Higher education</td>\n",
       "      <td>Married</td>\n",
       "      <td>House / apartment</td>\n",
       "      <td>-18772.0</td>\n",
       "      <td>365243</td>\n",
       "      <td>1</td>\n",
       "      <td>0</td>\n",
       "      <td>0</td>\n",
       "      <td>0</td>\n",
       "      <td>NaN</td>\n",
       "      <td>2</td>\n",
       "    </tr>\n",
       "    <tr>\n",
       "      <th>1</th>\n",
       "      <td>5009744</td>\n",
       "      <td>F</td>\n",
       "      <td>Y</td>\n",
       "      <td>N</td>\n",
       "      <td>0</td>\n",
       "      <td>315000.0</td>\n",
       "      <td>Commercial associate</td>\n",
       "      <td>Higher education</td>\n",
       "      <td>Married</td>\n",
       "      <td>House / apartment</td>\n",
       "      <td>-13557.0</td>\n",
       "      <td>-586</td>\n",
       "      <td>1</td>\n",
       "      <td>1</td>\n",
       "      <td>1</td>\n",
       "      <td>0</td>\n",
       "      <td>NaN</td>\n",
       "      <td>2</td>\n",
       "    </tr>\n",
       "    <tr>\n",
       "      <th>2</th>\n",
       "      <td>5009746</td>\n",
       "      <td>F</td>\n",
       "      <td>Y</td>\n",
       "      <td>N</td>\n",
       "      <td>0</td>\n",
       "      <td>315000.0</td>\n",
       "      <td>Commercial associate</td>\n",
       "      <td>Higher education</td>\n",
       "      <td>Married</td>\n",
       "      <td>House / apartment</td>\n",
       "      <td>NaN</td>\n",
       "      <td>-586</td>\n",
       "      <td>1</td>\n",
       "      <td>1</td>\n",
       "      <td>1</td>\n",
       "      <td>0</td>\n",
       "      <td>NaN</td>\n",
       "      <td>2</td>\n",
       "    </tr>\n",
       "    <tr>\n",
       "      <th>3</th>\n",
       "      <td>5009749</td>\n",
       "      <td>F</td>\n",
       "      <td>Y</td>\n",
       "      <td>N</td>\n",
       "      <td>0</td>\n",
       "      <td>NaN</td>\n",
       "      <td>Commercial associate</td>\n",
       "      <td>Higher education</td>\n",
       "      <td>Married</td>\n",
       "      <td>House / apartment</td>\n",
       "      <td>-13557.0</td>\n",
       "      <td>-586</td>\n",
       "      <td>1</td>\n",
       "      <td>1</td>\n",
       "      <td>1</td>\n",
       "      <td>0</td>\n",
       "      <td>NaN</td>\n",
       "      <td>2</td>\n",
       "    </tr>\n",
       "    <tr>\n",
       "      <th>4</th>\n",
       "      <td>5009752</td>\n",
       "      <td>F</td>\n",
       "      <td>Y</td>\n",
       "      <td>N</td>\n",
       "      <td>0</td>\n",
       "      <td>315000.0</td>\n",
       "      <td>Commercial associate</td>\n",
       "      <td>Higher education</td>\n",
       "      <td>Married</td>\n",
       "      <td>House / apartment</td>\n",
       "      <td>-13557.0</td>\n",
       "      <td>-586</td>\n",
       "      <td>1</td>\n",
       "      <td>1</td>\n",
       "      <td>1</td>\n",
       "      <td>0</td>\n",
       "      <td>NaN</td>\n",
       "      <td>2</td>\n",
       "    </tr>\n",
       "  </tbody>\n",
       "</table>\n",
       "</div>"
      ],
      "text/plain": [
       "    Ind_ID GENDER Car_Owner Propert_Owner  CHILDREN  Annual_income  \\\n",
       "0  5008827      M         Y             Y         0       180000.0   \n",
       "1  5009744      F         Y             N         0       315000.0   \n",
       "2  5009746      F         Y             N         0       315000.0   \n",
       "3  5009749      F         Y             N         0            NaN   \n",
       "4  5009752      F         Y             N         0       315000.0   \n",
       "\n",
       "            Type_Income         EDUCATION Marital_status       Housing_type  \\\n",
       "0             Pensioner  Higher education        Married  House / apartment   \n",
       "1  Commercial associate  Higher education        Married  House / apartment   \n",
       "2  Commercial associate  Higher education        Married  House / apartment   \n",
       "3  Commercial associate  Higher education        Married  House / apartment   \n",
       "4  Commercial associate  Higher education        Married  House / apartment   \n",
       "\n",
       "   Birthday_count  Employed_days  Mobile_phone  Work_Phone  Phone  EMAIL_ID  \\\n",
       "0        -18772.0         365243             1           0      0         0   \n",
       "1        -13557.0           -586             1           1      1         0   \n",
       "2             NaN           -586             1           1      1         0   \n",
       "3        -13557.0           -586             1           1      1         0   \n",
       "4        -13557.0           -586             1           1      1         0   \n",
       "\n",
       "  Type_Occupation  Family_Members  \n",
       "0             NaN               2  \n",
       "1             NaN               2  \n",
       "2             NaN               2  \n",
       "3             NaN               2  \n",
       "4             NaN               2  "
      ]
     },
     "execution_count": 3,
     "metadata": {},
     "output_type": "execute_result"
    }
   ],
   "source": [
    "data.head()"
   ]
  },
  {
   "cell_type": "code",
   "execution_count": 4,
   "id": "3eb7cfef",
   "metadata": {},
   "outputs": [],
   "source": [
    "label = pd.read_csv('Credit_card_label.csv')"
   ]
  },
  {
   "cell_type": "markdown",
   "id": "612719b1",
   "metadata": {},
   "source": [
    "## Label: \n",
    "### 0 is application approved\n",
    "### 1 is application rejected"
   ]
  },
  {
   "cell_type": "code",
   "execution_count": 30,
   "id": "641ec80e",
   "metadata": {},
   "outputs": [
    {
     "data": {
      "text/html": [
       "<div>\n",
       "<style scoped>\n",
       "    .dataframe tbody tr th:only-of-type {\n",
       "        vertical-align: middle;\n",
       "    }\n",
       "\n",
       "    .dataframe tbody tr th {\n",
       "        vertical-align: top;\n",
       "    }\n",
       "\n",
       "    .dataframe thead th {\n",
       "        text-align: right;\n",
       "    }\n",
       "</style>\n",
       "<table border=\"1\" class=\"dataframe\">\n",
       "  <thead>\n",
       "    <tr style=\"text-align: right;\">\n",
       "      <th></th>\n",
       "      <th>Ind_ID</th>\n",
       "      <th>label</th>\n",
       "    </tr>\n",
       "  </thead>\n",
       "  <tbody>\n",
       "    <tr>\n",
       "      <th>0</th>\n",
       "      <td>5008827</td>\n",
       "      <td>1</td>\n",
       "    </tr>\n",
       "    <tr>\n",
       "      <th>1</th>\n",
       "      <td>5009744</td>\n",
       "      <td>1</td>\n",
       "    </tr>\n",
       "    <tr>\n",
       "      <th>2</th>\n",
       "      <td>5009746</td>\n",
       "      <td>1</td>\n",
       "    </tr>\n",
       "    <tr>\n",
       "      <th>3</th>\n",
       "      <td>5009749</td>\n",
       "      <td>1</td>\n",
       "    </tr>\n",
       "    <tr>\n",
       "      <th>4</th>\n",
       "      <td>5009752</td>\n",
       "      <td>1</td>\n",
       "    </tr>\n",
       "    <tr>\n",
       "      <th>...</th>\n",
       "      <td>...</td>\n",
       "      <td>...</td>\n",
       "    </tr>\n",
       "    <tr>\n",
       "      <th>1543</th>\n",
       "      <td>5028645</td>\n",
       "      <td>0</td>\n",
       "    </tr>\n",
       "    <tr>\n",
       "      <th>1544</th>\n",
       "      <td>5023655</td>\n",
       "      <td>0</td>\n",
       "    </tr>\n",
       "    <tr>\n",
       "      <th>1545</th>\n",
       "      <td>5115992</td>\n",
       "      <td>0</td>\n",
       "    </tr>\n",
       "    <tr>\n",
       "      <th>1546</th>\n",
       "      <td>5118219</td>\n",
       "      <td>0</td>\n",
       "    </tr>\n",
       "    <tr>\n",
       "      <th>1547</th>\n",
       "      <td>5053790</td>\n",
       "      <td>0</td>\n",
       "    </tr>\n",
       "  </tbody>\n",
       "</table>\n",
       "<p>1548 rows × 2 columns</p>\n",
       "</div>"
      ],
      "text/plain": [
       "       Ind_ID  label\n",
       "0     5008827      1\n",
       "1     5009744      1\n",
       "2     5009746      1\n",
       "3     5009749      1\n",
       "4     5009752      1\n",
       "...       ...    ...\n",
       "1543  5028645      0\n",
       "1544  5023655      0\n",
       "1545  5115992      0\n",
       "1546  5118219      0\n",
       "1547  5053790      0\n",
       "\n",
       "[1548 rows x 2 columns]"
      ]
     },
     "execution_count": 30,
     "metadata": {},
     "output_type": "execute_result"
    }
   ],
   "source": [
    "label"
   ]
  },
  {
   "cell_type": "code",
   "execution_count": 31,
   "id": "7e3f1f94",
   "metadata": {},
   "outputs": [],
   "source": [
    "data = data.merge(label, on='Ind_ID', how ='left')"
   ]
  },
  {
   "cell_type": "code",
   "execution_count": 32,
   "id": "22511192",
   "metadata": {},
   "outputs": [
    {
     "data": {
      "text/html": [
       "<div>\n",
       "<style scoped>\n",
       "    .dataframe tbody tr th:only-of-type {\n",
       "        vertical-align: middle;\n",
       "    }\n",
       "\n",
       "    .dataframe tbody tr th {\n",
       "        vertical-align: top;\n",
       "    }\n",
       "\n",
       "    .dataframe thead th {\n",
       "        text-align: right;\n",
       "    }\n",
       "</style>\n",
       "<table border=\"1\" class=\"dataframe\">\n",
       "  <thead>\n",
       "    <tr style=\"text-align: right;\">\n",
       "      <th></th>\n",
       "      <th>Ind_ID</th>\n",
       "      <th>GENDER</th>\n",
       "      <th>Car_Owner</th>\n",
       "      <th>Propert_Owner</th>\n",
       "      <th>CHILDREN</th>\n",
       "      <th>Annual_income</th>\n",
       "      <th>Type_Income</th>\n",
       "      <th>EDUCATION</th>\n",
       "      <th>Marital_status</th>\n",
       "      <th>Housing_type</th>\n",
       "      <th>...</th>\n",
       "      <th>Employed_days</th>\n",
       "      <th>Mobile_phone</th>\n",
       "      <th>Work_Phone</th>\n",
       "      <th>Phone</th>\n",
       "      <th>EMAIL_ID</th>\n",
       "      <th>Type_Occupation</th>\n",
       "      <th>Family_Members</th>\n",
       "      <th>label_x</th>\n",
       "      <th>label_y</th>\n",
       "      <th>label</th>\n",
       "    </tr>\n",
       "  </thead>\n",
       "  <tbody>\n",
       "    <tr>\n",
       "      <th>0</th>\n",
       "      <td>5010864</td>\n",
       "      <td>M</td>\n",
       "      <td>Y</td>\n",
       "      <td>Y</td>\n",
       "      <td>1</td>\n",
       "      <td>450000.0</td>\n",
       "      <td>Commercial associate</td>\n",
       "      <td>Secondary / secondary special</td>\n",
       "      <td>Married</td>\n",
       "      <td>House / apartment</td>\n",
       "      <td>...</td>\n",
       "      <td>-678</td>\n",
       "      <td>1</td>\n",
       "      <td>0</td>\n",
       "      <td>1</td>\n",
       "      <td>1</td>\n",
       "      <td>Core staff</td>\n",
       "      <td>3</td>\n",
       "      <td>1</td>\n",
       "      <td>1</td>\n",
       "      <td>1</td>\n",
       "    </tr>\n",
       "    <tr>\n",
       "      <th>1</th>\n",
       "      <td>5010868</td>\n",
       "      <td>M</td>\n",
       "      <td>Y</td>\n",
       "      <td>Y</td>\n",
       "      <td>1</td>\n",
       "      <td>450000.0</td>\n",
       "      <td>Pensioner</td>\n",
       "      <td>Secondary / secondary special</td>\n",
       "      <td>Married</td>\n",
       "      <td>House / apartment</td>\n",
       "      <td>...</td>\n",
       "      <td>-678</td>\n",
       "      <td>1</td>\n",
       "      <td>0</td>\n",
       "      <td>1</td>\n",
       "      <td>1</td>\n",
       "      <td>Core staff</td>\n",
       "      <td>3</td>\n",
       "      <td>1</td>\n",
       "      <td>1</td>\n",
       "      <td>1</td>\n",
       "    </tr>\n",
       "    <tr>\n",
       "      <th>2</th>\n",
       "      <td>5010869</td>\n",
       "      <td>M</td>\n",
       "      <td>Y</td>\n",
       "      <td>Y</td>\n",
       "      <td>1</td>\n",
       "      <td>450000.0</td>\n",
       "      <td>Commercial associate</td>\n",
       "      <td>Secondary / secondary special</td>\n",
       "      <td>Single / not married</td>\n",
       "      <td>House / apartment</td>\n",
       "      <td>...</td>\n",
       "      <td>-678</td>\n",
       "      <td>1</td>\n",
       "      <td>0</td>\n",
       "      <td>1</td>\n",
       "      <td>1</td>\n",
       "      <td>Core staff</td>\n",
       "      <td>1</td>\n",
       "      <td>1</td>\n",
       "      <td>1</td>\n",
       "      <td>1</td>\n",
       "    </tr>\n",
       "    <tr>\n",
       "      <th>3</th>\n",
       "      <td>5018498</td>\n",
       "      <td>F</td>\n",
       "      <td>Y</td>\n",
       "      <td>Y</td>\n",
       "      <td>0</td>\n",
       "      <td>90000.0</td>\n",
       "      <td>Working</td>\n",
       "      <td>Secondary / secondary special</td>\n",
       "      <td>Married</td>\n",
       "      <td>House / apartment</td>\n",
       "      <td>...</td>\n",
       "      <td>-1002</td>\n",
       "      <td>1</td>\n",
       "      <td>1</td>\n",
       "      <td>1</td>\n",
       "      <td>0</td>\n",
       "      <td>Cooking staff</td>\n",
       "      <td>2</td>\n",
       "      <td>1</td>\n",
       "      <td>1</td>\n",
       "      <td>1</td>\n",
       "    </tr>\n",
       "    <tr>\n",
       "      <th>4</th>\n",
       "      <td>5018503</td>\n",
       "      <td>F</td>\n",
       "      <td>Y</td>\n",
       "      <td>Y</td>\n",
       "      <td>0</td>\n",
       "      <td>90000.0</td>\n",
       "      <td>Working</td>\n",
       "      <td>Secondary / secondary special</td>\n",
       "      <td>Married</td>\n",
       "      <td>House / apartment</td>\n",
       "      <td>...</td>\n",
       "      <td>-1002</td>\n",
       "      <td>1</td>\n",
       "      <td>1</td>\n",
       "      <td>1</td>\n",
       "      <td>0</td>\n",
       "      <td>Cooking staff</td>\n",
       "      <td>2</td>\n",
       "      <td>1</td>\n",
       "      <td>1</td>\n",
       "      <td>1</td>\n",
       "    </tr>\n",
       "    <tr>\n",
       "      <th>...</th>\n",
       "      <td>...</td>\n",
       "      <td>...</td>\n",
       "      <td>...</td>\n",
       "      <td>...</td>\n",
       "      <td>...</td>\n",
       "      <td>...</td>\n",
       "      <td>...</td>\n",
       "      <td>...</td>\n",
       "      <td>...</td>\n",
       "      <td>...</td>\n",
       "      <td>...</td>\n",
       "      <td>...</td>\n",
       "      <td>...</td>\n",
       "      <td>...</td>\n",
       "      <td>...</td>\n",
       "      <td>...</td>\n",
       "      <td>...</td>\n",
       "      <td>...</td>\n",
       "      <td>...</td>\n",
       "      <td>...</td>\n",
       "      <td>...</td>\n",
       "    </tr>\n",
       "    <tr>\n",
       "      <th>1020</th>\n",
       "      <td>5024049</td>\n",
       "      <td>F</td>\n",
       "      <td>Y</td>\n",
       "      <td>Y</td>\n",
       "      <td>1</td>\n",
       "      <td>144000.0</td>\n",
       "      <td>Working</td>\n",
       "      <td>Higher education</td>\n",
       "      <td>Married</td>\n",
       "      <td>House / apartment</td>\n",
       "      <td>...</td>\n",
       "      <td>-2924</td>\n",
       "      <td>1</td>\n",
       "      <td>0</td>\n",
       "      <td>0</td>\n",
       "      <td>0</td>\n",
       "      <td>Accountants</td>\n",
       "      <td>3</td>\n",
       "      <td>0</td>\n",
       "      <td>0</td>\n",
       "      <td>0</td>\n",
       "    </tr>\n",
       "    <tr>\n",
       "      <th>1021</th>\n",
       "      <td>5118268</td>\n",
       "      <td>M</td>\n",
       "      <td>Y</td>\n",
       "      <td>N</td>\n",
       "      <td>1</td>\n",
       "      <td>360000.0</td>\n",
       "      <td>State servant</td>\n",
       "      <td>Secondary / secondary special</td>\n",
       "      <td>Married</td>\n",
       "      <td>House / apartment</td>\n",
       "      <td>...</td>\n",
       "      <td>-3536</td>\n",
       "      <td>1</td>\n",
       "      <td>0</td>\n",
       "      <td>1</td>\n",
       "      <td>0</td>\n",
       "      <td>Drivers</td>\n",
       "      <td>3</td>\n",
       "      <td>0</td>\n",
       "      <td>0</td>\n",
       "      <td>0</td>\n",
       "    </tr>\n",
       "    <tr>\n",
       "      <th>1022</th>\n",
       "      <td>5023655</td>\n",
       "      <td>F</td>\n",
       "      <td>N</td>\n",
       "      <td>N</td>\n",
       "      <td>0</td>\n",
       "      <td>225000.0</td>\n",
       "      <td>Commercial associate</td>\n",
       "      <td>Incomplete higher</td>\n",
       "      <td>Single / not married</td>\n",
       "      <td>House / apartment</td>\n",
       "      <td>...</td>\n",
       "      <td>-1209</td>\n",
       "      <td>1</td>\n",
       "      <td>0</td>\n",
       "      <td>0</td>\n",
       "      <td>0</td>\n",
       "      <td>Accountants</td>\n",
       "      <td>1</td>\n",
       "      <td>0</td>\n",
       "      <td>0</td>\n",
       "      <td>0</td>\n",
       "    </tr>\n",
       "    <tr>\n",
       "      <th>1023</th>\n",
       "      <td>5115992</td>\n",
       "      <td>M</td>\n",
       "      <td>Y</td>\n",
       "      <td>Y</td>\n",
       "      <td>2</td>\n",
       "      <td>180000.0</td>\n",
       "      <td>Working</td>\n",
       "      <td>Higher education</td>\n",
       "      <td>Married</td>\n",
       "      <td>House / apartment</td>\n",
       "      <td>...</td>\n",
       "      <td>-2477</td>\n",
       "      <td>1</td>\n",
       "      <td>0</td>\n",
       "      <td>0</td>\n",
       "      <td>0</td>\n",
       "      <td>Managers</td>\n",
       "      <td>4</td>\n",
       "      <td>0</td>\n",
       "      <td>0</td>\n",
       "      <td>0</td>\n",
       "    </tr>\n",
       "    <tr>\n",
       "      <th>1024</th>\n",
       "      <td>5118219</td>\n",
       "      <td>M</td>\n",
       "      <td>Y</td>\n",
       "      <td>N</td>\n",
       "      <td>0</td>\n",
       "      <td>270000.0</td>\n",
       "      <td>Working</td>\n",
       "      <td>Secondary / secondary special</td>\n",
       "      <td>Civil marriage</td>\n",
       "      <td>House / apartment</td>\n",
       "      <td>...</td>\n",
       "      <td>-645</td>\n",
       "      <td>1</td>\n",
       "      <td>1</td>\n",
       "      <td>1</td>\n",
       "      <td>0</td>\n",
       "      <td>Drivers</td>\n",
       "      <td>2</td>\n",
       "      <td>0</td>\n",
       "      <td>0</td>\n",
       "      <td>0</td>\n",
       "    </tr>\n",
       "  </tbody>\n",
       "</table>\n",
       "<p>1025 rows × 21 columns</p>\n",
       "</div>"
      ],
      "text/plain": [
       "       Ind_ID GENDER Car_Owner Propert_Owner  CHILDREN  Annual_income  \\\n",
       "0     5010864      M         Y             Y         1       450000.0   \n",
       "1     5010868      M         Y             Y         1       450000.0   \n",
       "2     5010869      M         Y             Y         1       450000.0   \n",
       "3     5018498      F         Y             Y         0        90000.0   \n",
       "4     5018503      F         Y             Y         0        90000.0   \n",
       "...       ...    ...       ...           ...       ...            ...   \n",
       "1020  5024049      F         Y             Y         1       144000.0   \n",
       "1021  5118268      M         Y             N         1       360000.0   \n",
       "1022  5023655      F         N             N         0       225000.0   \n",
       "1023  5115992      M         Y             Y         2       180000.0   \n",
       "1024  5118219      M         Y             N         0       270000.0   \n",
       "\n",
       "               Type_Income                      EDUCATION  \\\n",
       "0     Commercial associate  Secondary / secondary special   \n",
       "1                Pensioner  Secondary / secondary special   \n",
       "2     Commercial associate  Secondary / secondary special   \n",
       "3                  Working  Secondary / secondary special   \n",
       "4                  Working  Secondary / secondary special   \n",
       "...                    ...                            ...   \n",
       "1020               Working               Higher education   \n",
       "1021         State servant  Secondary / secondary special   \n",
       "1022  Commercial associate              Incomplete higher   \n",
       "1023               Working               Higher education   \n",
       "1024               Working  Secondary / secondary special   \n",
       "\n",
       "            Marital_status       Housing_type  ...  Employed_days  \\\n",
       "0                  Married  House / apartment  ...           -678   \n",
       "1                  Married  House / apartment  ...           -678   \n",
       "2     Single / not married  House / apartment  ...           -678   \n",
       "3                  Married  House / apartment  ...          -1002   \n",
       "4                  Married  House / apartment  ...          -1002   \n",
       "...                    ...                ...  ...            ...   \n",
       "1020               Married  House / apartment  ...          -2924   \n",
       "1021               Married  House / apartment  ...          -3536   \n",
       "1022  Single / not married  House / apartment  ...          -1209   \n",
       "1023               Married  House / apartment  ...          -2477   \n",
       "1024        Civil marriage  House / apartment  ...           -645   \n",
       "\n",
       "      Mobile_phone  Work_Phone  Phone  EMAIL_ID  Type_Occupation  \\\n",
       "0                1           0      1         1       Core staff   \n",
       "1                1           0      1         1       Core staff   \n",
       "2                1           0      1         1       Core staff   \n",
       "3                1           1      1         0    Cooking staff   \n",
       "4                1           1      1         0    Cooking staff   \n",
       "...            ...         ...    ...       ...              ...   \n",
       "1020             1           0      0         0      Accountants   \n",
       "1021             1           0      1         0          Drivers   \n",
       "1022             1           0      0         0      Accountants   \n",
       "1023             1           0      0         0         Managers   \n",
       "1024             1           1      1         0          Drivers   \n",
       "\n",
       "     Family_Members  label_x  label_y  label  \n",
       "0                 3        1        1      1  \n",
       "1                 3        1        1      1  \n",
       "2                 1        1        1      1  \n",
       "3                 2        1        1      1  \n",
       "4                 2        1        1      1  \n",
       "...             ...      ...      ...    ...  \n",
       "1020              3        0        0      0  \n",
       "1021              3        0        0      0  \n",
       "1022              1        0        0      0  \n",
       "1023              4        0        0      0  \n",
       "1024              2        0        0      0  \n",
       "\n",
       "[1025 rows x 21 columns]"
      ]
     },
     "execution_count": 32,
     "metadata": {},
     "output_type": "execute_result"
    }
   ],
   "source": [
    "data"
   ]
  },
  {
   "cell_type": "code",
   "execution_count": 33,
   "id": "94dea279",
   "metadata": {},
   "outputs": [],
   "source": [
    "import seaborn as sns\n",
    "import matplotlib.pyplot as plt\n"
   ]
  },
  {
   "cell_type": "code",
   "execution_count": 34,
   "id": "3a73bd1a",
   "metadata": {},
   "outputs": [
    {
     "name": "stdout",
     "output_type": "stream",
     "text": [
      "<class 'pandas.core.frame.DataFrame'>\n",
      "Int64Index: 1025 entries, 0 to 1024\n",
      "Data columns (total 21 columns):\n",
      " #   Column           Non-Null Count  Dtype  \n",
      "---  ------           --------------  -----  \n",
      " 0   Ind_ID           1025 non-null   int64  \n",
      " 1   GENDER           1025 non-null   object \n",
      " 2   Car_Owner        1025 non-null   object \n",
      " 3   Propert_Owner    1025 non-null   object \n",
      " 4   CHILDREN         1025 non-null   int64  \n",
      " 5   Annual_income    1025 non-null   float64\n",
      " 6   Type_Income      1025 non-null   object \n",
      " 7   EDUCATION        1025 non-null   object \n",
      " 8   Marital_status   1025 non-null   object \n",
      " 9   Housing_type     1025 non-null   object \n",
      " 10  Birthday_count   1025 non-null   float64\n",
      " 11  Employed_days    1025 non-null   int64  \n",
      " 12  Mobile_phone     1025 non-null   int64  \n",
      " 13  Work_Phone       1025 non-null   int64  \n",
      " 14  Phone            1025 non-null   int64  \n",
      " 15  EMAIL_ID         1025 non-null   int64  \n",
      " 16  Type_Occupation  1025 non-null   object \n",
      " 17  Family_Members   1025 non-null   int64  \n",
      " 18  label_x          1025 non-null   int64  \n",
      " 19  label_y          1025 non-null   int64  \n",
      " 20  label            1025 non-null   int64  \n",
      "dtypes: float64(2), int64(11), object(8)\n",
      "memory usage: 176.2+ KB\n"
     ]
    }
   ],
   "source": [
    "data.info()"
   ]
  },
  {
   "cell_type": "code",
   "execution_count": 35,
   "id": "e3ac4b98",
   "metadata": {},
   "outputs": [
    {
     "data": {
      "text/html": [
       "<div>\n",
       "<style scoped>\n",
       "    .dataframe tbody tr th:only-of-type {\n",
       "        vertical-align: middle;\n",
       "    }\n",
       "\n",
       "    .dataframe tbody tr th {\n",
       "        vertical-align: top;\n",
       "    }\n",
       "\n",
       "    .dataframe thead th {\n",
       "        text-align: right;\n",
       "    }\n",
       "</style>\n",
       "<table border=\"1\" class=\"dataframe\">\n",
       "  <thead>\n",
       "    <tr style=\"text-align: right;\">\n",
       "      <th></th>\n",
       "      <th>Ind_ID</th>\n",
       "      <th>CHILDREN</th>\n",
       "      <th>Annual_income</th>\n",
       "      <th>Birthday_count</th>\n",
       "      <th>Employed_days</th>\n",
       "      <th>Mobile_phone</th>\n",
       "      <th>Work_Phone</th>\n",
       "      <th>Phone</th>\n",
       "      <th>EMAIL_ID</th>\n",
       "      <th>Family_Members</th>\n",
       "      <th>label_x</th>\n",
       "      <th>label_y</th>\n",
       "      <th>label</th>\n",
       "    </tr>\n",
       "  </thead>\n",
       "  <tbody>\n",
       "    <tr>\n",
       "      <th>count</th>\n",
       "      <td>1.025000e+03</td>\n",
       "      <td>1025.000000</td>\n",
       "      <td>1.025000e+03</td>\n",
       "      <td>1025.000000</td>\n",
       "      <td>1025.000000</td>\n",
       "      <td>1025.0</td>\n",
       "      <td>1025.000000</td>\n",
       "      <td>1025.000000</td>\n",
       "      <td>1025.000000</td>\n",
       "      <td>1025.000000</td>\n",
       "      <td>1025.000000</td>\n",
       "      <td>1025.000000</td>\n",
       "      <td>1025.000000</td>\n",
       "    </tr>\n",
       "    <tr>\n",
       "      <th>mean</th>\n",
       "      <td>5.081019e+06</td>\n",
       "      <td>0.494634</td>\n",
       "      <td>2.001105e+05</td>\n",
       "      <td>-14857.123902</td>\n",
       "      <td>-2696.505366</td>\n",
       "      <td>1.0</td>\n",
       "      <td>0.245854</td>\n",
       "      <td>0.298537</td>\n",
       "      <td>0.111220</td>\n",
       "      <td>2.272195</td>\n",
       "      <td>0.107317</td>\n",
       "      <td>0.107317</td>\n",
       "      <td>0.107317</td>\n",
       "    </tr>\n",
       "    <tr>\n",
       "      <th>std</th>\n",
       "      <td>4.193412e+04</td>\n",
       "      <td>0.844456</td>\n",
       "      <td>1.215105e+05</td>\n",
       "      <td>3472.572488</td>\n",
       "      <td>2399.989466</td>\n",
       "      <td>0.0</td>\n",
       "      <td>0.430802</td>\n",
       "      <td>0.457839</td>\n",
       "      <td>0.314557</td>\n",
       "      <td>0.996604</td>\n",
       "      <td>0.309667</td>\n",
       "      <td>0.309667</td>\n",
       "      <td>0.309667</td>\n",
       "    </tr>\n",
       "    <tr>\n",
       "      <th>min</th>\n",
       "      <td>5.008865e+06</td>\n",
       "      <td>0.000000</td>\n",
       "      <td>3.600000e+04</td>\n",
       "      <td>-23844.000000</td>\n",
       "      <td>-14887.000000</td>\n",
       "      <td>1.0</td>\n",
       "      <td>0.000000</td>\n",
       "      <td>0.000000</td>\n",
       "      <td>0.000000</td>\n",
       "      <td>1.000000</td>\n",
       "      <td>0.000000</td>\n",
       "      <td>0.000000</td>\n",
       "      <td>0.000000</td>\n",
       "    </tr>\n",
       "    <tr>\n",
       "      <th>25%</th>\n",
       "      <td>5.045380e+06</td>\n",
       "      <td>0.000000</td>\n",
       "      <td>1.350000e+05</td>\n",
       "      <td>-17532.000000</td>\n",
       "      <td>-3641.000000</td>\n",
       "      <td>1.0</td>\n",
       "      <td>0.000000</td>\n",
       "      <td>0.000000</td>\n",
       "      <td>0.000000</td>\n",
       "      <td>2.000000</td>\n",
       "      <td>0.000000</td>\n",
       "      <td>0.000000</td>\n",
       "      <td>0.000000</td>\n",
       "    </tr>\n",
       "    <tr>\n",
       "      <th>50%</th>\n",
       "      <td>5.088503e+06</td>\n",
       "      <td>0.000000</td>\n",
       "      <td>1.800000e+05</td>\n",
       "      <td>-14622.000000</td>\n",
       "      <td>-1966.000000</td>\n",
       "      <td>1.0</td>\n",
       "      <td>0.000000</td>\n",
       "      <td>0.000000</td>\n",
       "      <td>0.000000</td>\n",
       "      <td>2.000000</td>\n",
       "      <td>0.000000</td>\n",
       "      <td>0.000000</td>\n",
       "      <td>0.000000</td>\n",
       "    </tr>\n",
       "    <tr>\n",
       "      <th>75%</th>\n",
       "      <td>5.116478e+06</td>\n",
       "      <td>1.000000</td>\n",
       "      <td>2.340000e+05</td>\n",
       "      <td>-11978.000000</td>\n",
       "      <td>-978.000000</td>\n",
       "      <td>1.0</td>\n",
       "      <td>0.000000</td>\n",
       "      <td>1.000000</td>\n",
       "      <td>0.000000</td>\n",
       "      <td>3.000000</td>\n",
       "      <td>0.000000</td>\n",
       "      <td>0.000000</td>\n",
       "      <td>0.000000</td>\n",
       "    </tr>\n",
       "    <tr>\n",
       "      <th>max</th>\n",
       "      <td>5.150221e+06</td>\n",
       "      <td>14.000000</td>\n",
       "      <td>1.575000e+06</td>\n",
       "      <td>-7705.000000</td>\n",
       "      <td>-73.000000</td>\n",
       "      <td>1.0</td>\n",
       "      <td>1.000000</td>\n",
       "      <td>1.000000</td>\n",
       "      <td>1.000000</td>\n",
       "      <td>15.000000</td>\n",
       "      <td>1.000000</td>\n",
       "      <td>1.000000</td>\n",
       "      <td>1.000000</td>\n",
       "    </tr>\n",
       "  </tbody>\n",
       "</table>\n",
       "</div>"
      ],
      "text/plain": [
       "             Ind_ID     CHILDREN  Annual_income  Birthday_count  \\\n",
       "count  1.025000e+03  1025.000000   1.025000e+03     1025.000000   \n",
       "mean   5.081019e+06     0.494634   2.001105e+05   -14857.123902   \n",
       "std    4.193412e+04     0.844456   1.215105e+05     3472.572488   \n",
       "min    5.008865e+06     0.000000   3.600000e+04   -23844.000000   \n",
       "25%    5.045380e+06     0.000000   1.350000e+05   -17532.000000   \n",
       "50%    5.088503e+06     0.000000   1.800000e+05   -14622.000000   \n",
       "75%    5.116478e+06     1.000000   2.340000e+05   -11978.000000   \n",
       "max    5.150221e+06    14.000000   1.575000e+06    -7705.000000   \n",
       "\n",
       "       Employed_days  Mobile_phone   Work_Phone        Phone     EMAIL_ID  \\\n",
       "count    1025.000000        1025.0  1025.000000  1025.000000  1025.000000   \n",
       "mean    -2696.505366           1.0     0.245854     0.298537     0.111220   \n",
       "std      2399.989466           0.0     0.430802     0.457839     0.314557   \n",
       "min    -14887.000000           1.0     0.000000     0.000000     0.000000   \n",
       "25%     -3641.000000           1.0     0.000000     0.000000     0.000000   \n",
       "50%     -1966.000000           1.0     0.000000     0.000000     0.000000   \n",
       "75%      -978.000000           1.0     0.000000     1.000000     0.000000   \n",
       "max       -73.000000           1.0     1.000000     1.000000     1.000000   \n",
       "\n",
       "       Family_Members      label_x      label_y        label  \n",
       "count     1025.000000  1025.000000  1025.000000  1025.000000  \n",
       "mean         2.272195     0.107317     0.107317     0.107317  \n",
       "std          0.996604     0.309667     0.309667     0.309667  \n",
       "min          1.000000     0.000000     0.000000     0.000000  \n",
       "25%          2.000000     0.000000     0.000000     0.000000  \n",
       "50%          2.000000     0.000000     0.000000     0.000000  \n",
       "75%          3.000000     0.000000     0.000000     0.000000  \n",
       "max         15.000000     1.000000     1.000000     1.000000  "
      ]
     },
     "execution_count": 35,
     "metadata": {},
     "output_type": "execute_result"
    }
   ],
   "source": [
    "data.describe()"
   ]
  },
  {
   "cell_type": "code",
   "execution_count": 36,
   "id": "3e8d8eed",
   "metadata": {},
   "outputs": [
    {
     "data": {
      "text/plain": [
       "(1025, 21)"
      ]
     },
     "execution_count": 36,
     "metadata": {},
     "output_type": "execute_result"
    }
   ],
   "source": [
    "data.shape"
   ]
  },
  {
   "cell_type": "code",
   "execution_count": 37,
   "id": "53f21dc9",
   "metadata": {},
   "outputs": [
    {
     "data": {
      "text/plain": [
       "Ind_ID             0\n",
       "GENDER             0\n",
       "Car_Owner          0\n",
       "Propert_Owner      0\n",
       "CHILDREN           0\n",
       "Annual_income      0\n",
       "Type_Income        0\n",
       "EDUCATION          0\n",
       "Marital_status     0\n",
       "Housing_type       0\n",
       "Birthday_count     0\n",
       "Employed_days      0\n",
       "Mobile_phone       0\n",
       "Work_Phone         0\n",
       "Phone              0\n",
       "EMAIL_ID           0\n",
       "Type_Occupation    0\n",
       "Family_Members     0\n",
       "label_x            0\n",
       "label_y            0\n",
       "label              0\n",
       "dtype: int64"
      ]
     },
     "execution_count": 37,
     "metadata": {},
     "output_type": "execute_result"
    }
   ],
   "source": [
    "data.isna().sum()"
   ]
  },
  {
   "cell_type": "code",
   "execution_count": 38,
   "id": "f4fc912d",
   "metadata": {},
   "outputs": [],
   "source": [
    "data.dropna(inplace=True)"
   ]
  },
  {
   "cell_type": "code",
   "execution_count": 39,
   "id": "0fd18cb4",
   "metadata": {},
   "outputs": [
    {
     "data": {
      "text/plain": [
       "Ind_ID             0\n",
       "GENDER             0\n",
       "Car_Owner          0\n",
       "Propert_Owner      0\n",
       "CHILDREN           0\n",
       "Annual_income      0\n",
       "Type_Income        0\n",
       "EDUCATION          0\n",
       "Marital_status     0\n",
       "Housing_type       0\n",
       "Birthday_count     0\n",
       "Employed_days      0\n",
       "Mobile_phone       0\n",
       "Work_Phone         0\n",
       "Phone              0\n",
       "EMAIL_ID           0\n",
       "Type_Occupation    0\n",
       "Family_Members     0\n",
       "label_x            0\n",
       "label_y            0\n",
       "label              0\n",
       "dtype: int64"
      ]
     },
     "execution_count": 39,
     "metadata": {},
     "output_type": "execute_result"
    }
   ],
   "source": [
    "data.isna().sum()"
   ]
  },
  {
   "cell_type": "code",
   "execution_count": 40,
   "id": "28dfe5ca",
   "metadata": {},
   "outputs": [
    {
     "data": {
      "text/plain": [
       "0"
      ]
     },
     "execution_count": 40,
     "metadata": {},
     "output_type": "execute_result"
    }
   ],
   "source": [
    "data.duplicated().sum()"
   ]
  },
  {
   "cell_type": "code",
   "execution_count": 41,
   "id": "8c00adfd",
   "metadata": {},
   "outputs": [
    {
     "data": {
      "text/plain": [
       "200110.46048780487"
      ]
     },
     "execution_count": 41,
     "metadata": {},
     "output_type": "execute_result"
    }
   ],
   "source": [
    "average_income = data['Annual_income'].mean()\n",
    "average_income"
   ]
  },
  {
   "cell_type": "code",
   "execution_count": 42,
   "id": "40bb4f6f",
   "metadata": {},
   "outputs": [
    {
     "data": {
      "text/plain": [
       "GENDER\n",
       "F    180881.462687\n",
       "M    227586.966825\n",
       "Name: Annual_income, dtype: float64"
      ]
     },
     "execution_count": 42,
     "metadata": {},
     "output_type": "execute_result"
    }
   ],
   "source": [
    "gender_income = data.groupby('GENDER')['Annual_income'].mean()\n",
    "gender_income"
   ]
  },
  {
   "cell_type": "code",
   "execution_count": 43,
   "id": "b5c42d5c",
   "metadata": {},
   "outputs": [
    {
     "data": {
      "image/png": "[encoded data removed]",
      "text/plain": [
       "<Figure size 640x480 with 1 Axes>"
      ]
     },
     "metadata": {},
     "output_type": "display_data"
    }
   ],
   "source": [
    "sns.barplot(x=gender_income.index, y=gender_income.values)\n",
    "plt.title('Annual Income by Gender')\n",
    "plt.xlabel('Gender')\n",
    "plt.ylabel('Income')\n",
    "plt.show()"
   ]
  },
  {
   "cell_type": "code",
   "execution_count": 44,
   "id": "2d9a51c8",
   "metadata": {},
   "outputs": [
    {
     "data": {
      "text/plain": [
       "0    915\n",
       "1    110\n",
       "Name: label, dtype: int64"
      ]
     },
     "execution_count": 44,
     "metadata": {},
     "output_type": "execute_result"
    }
   ],
   "source": [
    "label_counts = data[\"label\"].value_counts()\n",
    "label_counts"
   ]
  },
  {
   "cell_type": "code",
   "execution_count": 47,
   "id": "98a0a7e5",
   "metadata": {},
   "outputs": [
    {
     "data": {
      "image/png": "[encoded data removed]",
      "text/plain": [
       "<Figure size 640x480 with 1 Axes>"
      ]
     },
     "metadata": {},
     "output_type": "display_data"
    }
   ],
   "source": [
    "plt.pie(label_counts, labels=[\"Credit Approved\", \"Credit Rejected\"], autopct=\"%1.1f%%\")\n",
    "plt.title(\"Credit Approval Status\")\n",
    "plt.show()"
   ]
  },
  {
   "cell_type": "code",
   "execution_count": 49,
   "id": "772a2722",
   "metadata": {},
   "outputs": [
    {
     "data": {
      "text/plain": [
       "Type_Income\n",
       "Commercial associate    233367.086331\n",
       "Pensioner               285300.000000\n",
       "State servant           216927.835052\n",
       "Working                 182587.088372\n",
       "Name: Annual_income, dtype: float64"
      ]
     },
     "execution_count": 49,
     "metadata": {},
     "output_type": "execute_result"
    }
   ],
   "source": [
    "data.groupby(\"Type_Income\")[\"Annual_income\"].mean()"
   ]
  },
  {
   "cell_type": "code",
   "execution_count": 56,
   "id": "25a87e49",
   "metadata": {},
   "outputs": [
    {
     "data": {
      "text/plain": [
       "Marital_status\n",
       "Civil marriage           88\n",
       "Married                  73\n",
       "Separated               134\n",
       "Single / not married     95\n",
       "Widow                   346\n",
       "Name: Employed_days, dtype: int64"
      ]
     },
     "execution_count": 56,
     "metadata": {},
     "output_type": "execute_result"
    }
   ],
   "source": [
    "data.groupby(\"Marital_status\")[\"Employed_days\"].max()*-1"
   ]
  },
  {
   "cell_type": "code",
   "execution_count": 54,
   "id": "3976aabb",
   "metadata": {},
   "outputs": [
    {
     "data": {
      "text/plain": [
       "Housing_type\n",
       "Co-op apartment           5\n",
       "House / apartment      2068\n",
       "Municipal apartment      58\n",
       "Office apartment         21\n",
       "Rented apartment         29\n",
       "With parents            148\n",
       "Name: Family_Members, dtype: int64"
      ]
     },
     "execution_count": 54,
     "metadata": {},
     "output_type": "execute_result"
    }
   ],
   "source": [
    "data.groupby(\"Housing_type\")[\"Family_Members\"].sum()"
   ]
  },
  {
   "cell_type": "code",
   "execution_count": 58,
   "id": "25f5a275",
   "metadata": {},
   "outputs": [
    {
     "data": {
      "text/plain": [
       "GENDER\n",
       "F    23844.0\n",
       "M    23711.0\n",
       "Name: Birthday_count, dtype: float64"
      ]
     },
     "execution_count": 58,
     "metadata": {},
     "output_type": "execute_result"
    }
   ],
   "source": [
    "data.groupby(\"GENDER\")[\"Birthday_count\"].min()*-1\n"
   ]
  },
  {
   "cell_type": "code",
   "execution_count": 59,
   "id": "16095042",
   "metadata": {},
   "outputs": [
    {
     "data": {
      "text/plain": [
       "Propert_Owner\n",
       "N    189743.108108\n",
       "Y    205966.827481\n",
       "Name: Annual_income, dtype: float64"
      ]
     },
     "execution_count": 59,
     "metadata": {},
     "output_type": "execute_result"
    }
   ],
   "source": [
    "data.groupby(\"Propert_Owner\")[\"Annual_income\"].mean()"
   ]
  },
  {
   "cell_type": "code",
   "execution_count": 60,
   "id": "e594eddf",
   "metadata": {},
   "outputs": [
    {
     "data": {
      "text/plain": [
       "EDUCATION\n",
       "Higher education                 1\n",
       "Incomplete higher                1\n",
       "Lower secondary                  1\n",
       "Secondary / secondary special    1\n",
       "Name: Mobile_phone, dtype: int64"
      ]
     },
     "execution_count": 60,
     "metadata": {},
     "output_type": "execute_result"
    }
   ],
   "source": [
    "data.groupby(\"EDUCATION\")[\"Mobile_phone\"].max()"
   ]
  },
  {
   "cell_type": "code",
   "execution_count": 61,
   "id": "fb5c9e67",
   "metadata": {},
   "outputs": [
    {
     "data": {
      "text/plain": [
       "CHILDREN\n",
       "0     126987822.0\n",
       "1      53694000.0\n",
       "2      21987900.0\n",
       "3       2038500.0\n",
       "4        180000.0\n",
       "14       225000.0\n",
       "Name: Annual_income, dtype: float64"
      ]
     },
     "execution_count": 61,
     "metadata": {},
     "output_type": "execute_result"
    }
   ],
   "source": [
    "data.groupby(\"CHILDREN\")[\"Annual_income\"].sum()"
   ]
  },
  {
   "cell_type": "markdown",
   "id": "926bb1ed",
   "metadata": {},
   "source": [
    "# Data Visualization"
   ]
  },
  {
   "cell_type": "code",
   "execution_count": 62,
   "id": "c24c5918",
   "metadata": {},
   "outputs": [
    {
     "data": {
      "image/png": "[encoded data removed]",
      "text/plain": [
       "<Figure size 640x480 with 1 Axes>"
      ]
     },
     "metadata": {},
     "output_type": "display_data"
    }
   ],
   "source": [
    "sns.boxplot(x=\"Marital_status\", y=\"Annual_income\", data=data)\n",
    "plt.title(\"Annual Income Variation by Marital Status\")\n",
    "plt.show()"
   ]
  },
  {
   "cell_type": "code",
   "execution_count": 63,
   "id": "8fbdebe5",
   "metadata": {},
   "outputs": [
    {
     "data": {
      "image/png": "[encoded data removed]",
      "text/plain": [
       "<Figure size 640x480 with 1 Axes>"
      ]
     },
     "metadata": {},
     "output_type": "display_data"
    }
   ],
   "source": [
    "sns.violinplot(x=\"GENDER\", y=\"Birthday_count\", data=data)\n",
    "plt.title(\"Distribution of Birtday Count by Gender\")\n",
    "plt.show()"
   ]
  },
  {
   "cell_type": "code",
   "execution_count": 66,
   "id": "98889aff",
   "metadata": {},
   "outputs": [
    {
     "data": {
      "image/png": "[encoded data removed]",
      "text/plain": [
       "<Figure size 640x480 with 1 Axes>"
      ]
     },
     "metadata": {},
     "output_type": "display_data"
    }
   ],
   "source": [
    "data.groupby(\"Marital_status\")[\"Family_Members\"].sum().plot(kind =\"pie\", autopct=\"%1.1f%%\")\n",
    "plt.title(\"Family Members Distribution by Marital Status\")\n",
    "plt.ylabel(\"\")\n",
    "plt.show()"
   ]
  },
  {
   "cell_type": "code",
   "execution_count": 68,
   "id": "d083da61",
   "metadata": {},
   "outputs": [
    {
     "data": {
      "image/png": "[encoded data removed]",
      "text/plain": [
       "<Figure size 640x480 with 1 Axes>"
      ]
     },
     "metadata": {},
     "output_type": "display_data"
    }
   ],
   "source": [
    "data.boxplot(column=\"Annual_income\", by=\"EDUCATION\")\n",
    "plt.title(\"Annual Income Variation by Education\")\n",
    "plt.show()"
   ]
  },
  {
   "cell_type": "markdown",
   "id": "16d0741d",
   "metadata": {},
   "source": [
    "# Feature Engineering"
   ]
  },
  {
   "cell_type": "code",
   "execution_count": 69,
   "id": "4ac74488",
   "metadata": {},
   "outputs": [],
   "source": [
    "data = data[[\"Car_Owner\", \"Propert_Owner\", \"Annual_income\", \"EDUCATION\", \"label\"]]"
   ]
  },
  {
   "cell_type": "code",
   "execution_count": 70,
   "id": "e7675a76",
   "metadata": {},
   "outputs": [
    {
     "data": {
      "text/html": [
       "<div>\n",
       "<style scoped>\n",
       "    .dataframe tbody tr th:only-of-type {\n",
       "        vertical-align: middle;\n",
       "    }\n",
       "\n",
       "    .dataframe tbody tr th {\n",
       "        vertical-align: top;\n",
       "    }\n",
       "\n",
       "    .dataframe thead th {\n",
       "        text-align: right;\n",
       "    }\n",
       "</style>\n",
       "<table border=\"1\" class=\"dataframe\">\n",
       "  <thead>\n",
       "    <tr style=\"text-align: right;\">\n",
       "      <th></th>\n",
       "      <th>Car_Owner</th>\n",
       "      <th>Propert_Owner</th>\n",
       "      <th>Annual_income</th>\n",
       "      <th>EDUCATION</th>\n",
       "      <th>label</th>\n",
       "    </tr>\n",
       "  </thead>\n",
       "  <tbody>\n",
       "    <tr>\n",
       "      <th>0</th>\n",
       "      <td>Y</td>\n",
       "      <td>Y</td>\n",
       "      <td>450000.0</td>\n",
       "      <td>Secondary / secondary special</td>\n",
       "      <td>1</td>\n",
       "    </tr>\n",
       "    <tr>\n",
       "      <th>1</th>\n",
       "      <td>Y</td>\n",
       "      <td>Y</td>\n",
       "      <td>450000.0</td>\n",
       "      <td>Secondary / secondary special</td>\n",
       "      <td>1</td>\n",
       "    </tr>\n",
       "    <tr>\n",
       "      <th>2</th>\n",
       "      <td>Y</td>\n",
       "      <td>Y</td>\n",
       "      <td>450000.0</td>\n",
       "      <td>Secondary / secondary special</td>\n",
       "      <td>1</td>\n",
       "    </tr>\n",
       "    <tr>\n",
       "      <th>3</th>\n",
       "      <td>Y</td>\n",
       "      <td>Y</td>\n",
       "      <td>90000.0</td>\n",
       "      <td>Secondary / secondary special</td>\n",
       "      <td>1</td>\n",
       "    </tr>\n",
       "    <tr>\n",
       "      <th>4</th>\n",
       "      <td>Y</td>\n",
       "      <td>Y</td>\n",
       "      <td>90000.0</td>\n",
       "      <td>Secondary / secondary special</td>\n",
       "      <td>1</td>\n",
       "    </tr>\n",
       "    <tr>\n",
       "      <th>...</th>\n",
       "      <td>...</td>\n",
       "      <td>...</td>\n",
       "      <td>...</td>\n",
       "      <td>...</td>\n",
       "      <td>...</td>\n",
       "    </tr>\n",
       "    <tr>\n",
       "      <th>1020</th>\n",
       "      <td>Y</td>\n",
       "      <td>Y</td>\n",
       "      <td>144000.0</td>\n",
       "      <td>Higher education</td>\n",
       "      <td>0</td>\n",
       "    </tr>\n",
       "    <tr>\n",
       "      <th>1021</th>\n",
       "      <td>Y</td>\n",
       "      <td>N</td>\n",
       "      <td>360000.0</td>\n",
       "      <td>Secondary / secondary special</td>\n",
       "      <td>0</td>\n",
       "    </tr>\n",
       "    <tr>\n",
       "      <th>1022</th>\n",
       "      <td>N</td>\n",
       "      <td>N</td>\n",
       "      <td>225000.0</td>\n",
       "      <td>Incomplete higher</td>\n",
       "      <td>0</td>\n",
       "    </tr>\n",
       "    <tr>\n",
       "      <th>1023</th>\n",
       "      <td>Y</td>\n",
       "      <td>Y</td>\n",
       "      <td>180000.0</td>\n",
       "      <td>Higher education</td>\n",
       "      <td>0</td>\n",
       "    </tr>\n",
       "    <tr>\n",
       "      <th>1024</th>\n",
       "      <td>Y</td>\n",
       "      <td>N</td>\n",
       "      <td>270000.0</td>\n",
       "      <td>Secondary / secondary special</td>\n",
       "      <td>0</td>\n",
       "    </tr>\n",
       "  </tbody>\n",
       "</table>\n",
       "<p>1025 rows × 5 columns</p>\n",
       "</div>"
      ],
      "text/plain": [
       "     Car_Owner Propert_Owner  Annual_income                      EDUCATION  \\\n",
       "0            Y             Y       450000.0  Secondary / secondary special   \n",
       "1            Y             Y       450000.0  Secondary / secondary special   \n",
       "2            Y             Y       450000.0  Secondary / secondary special   \n",
       "3            Y             Y        90000.0  Secondary / secondary special   \n",
       "4            Y             Y        90000.0  Secondary / secondary special   \n",
       "...        ...           ...            ...                            ...   \n",
       "1020         Y             Y       144000.0               Higher education   \n",
       "1021         Y             N       360000.0  Secondary / secondary special   \n",
       "1022         N             N       225000.0              Incomplete higher   \n",
       "1023         Y             Y       180000.0               Higher education   \n",
       "1024         Y             N       270000.0  Secondary / secondary special   \n",
       "\n",
       "      label  \n",
       "0         1  \n",
       "1         1  \n",
       "2         1  \n",
       "3         1  \n",
       "4         1  \n",
       "...     ...  \n",
       "1020      0  \n",
       "1021      0  \n",
       "1022      0  \n",
       "1023      0  \n",
       "1024      0  \n",
       "\n",
       "[1025 rows x 5 columns]"
      ]
     },
     "execution_count": 70,
     "metadata": {},
     "output_type": "execute_result"
    }
   ],
   "source": [
    "data"
   ]
  },
  {
   "cell_type": "code",
   "execution_count": null,
   "id": "b4eb3bf5",
   "metadata": {},
   "outputs": [],
   "source": []
  }
 ],
 "metadata": {
  "kernelspec": {
   "display_name": "Python 3 (ipykernel)",
   "language": "python",
   "name": "python3"
  },
  "language_info": {
   "codemirror_mode": {
    "name": "ipython",
    "version": 3
   },
   "file_extension": ".py",
   "mimetype": "text/x-python",
   "name": "python",
   "nbconvert_exporter": "python",
   "pygments_lexer": "ipython3",
   "version": "3.11.5"
  }
 },
 "nbformat": 4,
 "nbformat_minor": 5
}
